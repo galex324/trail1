{
 "cells": [
  {
   "cell_type": "code",
   "execution_count": 41,
   "metadata": {},
   "outputs": [
    {
     "name": "stdout",
     "output_type": "stream",
     "text": [
      "00hn00jo\n"
     ]
    }
   ],
   "source": [
    "s='johnjojo'\n",
    "print(s.replace('jo','00',2))"
   ]
  },
  {
   "cell_type": "code",
   "execution_count": 7,
   "metadata": {
    "scrolled": true
   },
   "outputs": [
    {
     "name": "stdout",
     "output_type": "stream",
     "text": [
      "1\n",
      "3\n",
      "5\n",
      "7\n",
      "9\n",
      "11\n",
      "13\n",
      "15\n",
      "17\n",
      "19\n",
      "sum= 100\n"
     ]
    }
   ],
   "source": [
    "s=0\n",
    "for c in range(1,20,2):\n",
    "    print(c)\n",
    "    s=s+c\n",
    "print(\"sum=\",s)\n"
   ]
  },
  {
   "cell_type": "markdown",
   "metadata": {},
   "source": [
    "## dictionary"
   ]
  },
  {
   "cell_type": "code",
   "execution_count": 8,
   "metadata": {},
   "outputs": [
    {
     "name": "stdout",
     "output_type": "stream",
     "text": [
      "{} <class 'dict'>\n"
     ]
    }
   ],
   "source": [
    "d={}\n",
    "print(d,type(d))"
   ]
  },
  {
   "cell_type": "code",
   "execution_count": 9,
   "metadata": {},
   "outputs": [
    {
     "name": "stdout",
     "output_type": "stream",
     "text": [
      "{10: 'abc', 'ab': 123, (2, 4): [3, 5, 6, 7]} <class 'dict'>\n"
     ]
    }
   ],
   "source": [
    "d={10:'abc','ab':123,(2,4):[3,5,6,7]}\n",
    "print(d,type(d))"
   ]
  },
  {
   "cell_type": "code",
   "execution_count": 13,
   "metadata": {},
   "outputs": [
    {
     "name": "stdout",
     "output_type": "stream",
     "text": [
      "{1: 120, 30: 'abc', 'def': [2, 4, 5], (10, 5): (4, 5, 6, 7), 20: {}}\n",
      "{1: 120, 30: 'abc', 'def': [2, 4, 5], (10, 5): (4, 5, 6, 7), 20: {45: 45}}\n",
      "6\n"
     ]
    }
   ],
   "source": [
    "d={}\n",
    "d[1]=100\n",
    "d[30]='abc'\n",
    "d['def']=[2,4,5]\n",
    "d[1]=d[1]+20\n",
    "d[(10,5)]=(4,5,6,7)\n",
    "d[20]={}\n",
    "print(d)\n",
    "d[20][45]=45\n",
    "print(d)\n",
    "print(d[(10,5)][2])"
   ]
  },
  {
   "cell_type": "code",
   "execution_count": 14,
   "metadata": {},
   "outputs": [
    {
     "name": "stdout",
     "output_type": "stream",
     "text": [
      "enter a string: malayalam\n",
      "{'m': 2, 'a': 4, 'l': 2, 'y': 1}\n"
     ]
    }
   ],
   "source": [
    "s=input(\"enter a string: \")\n",
    "d={}\n",
    "for c in s:\n",
    "    if c in d:\n",
    "        d[c]=d[c]+1\n",
    "    else:\n",
    "        d[c]=1\n",
    "print(d)"
   ]
  },
  {
   "cell_type": "code",
   "execution_count": 15,
   "metadata": {},
   "outputs": [
    {
     "name": "stdout",
     "output_type": "stream",
     "text": [
      "{10: 45, 70: 2000}\n"
     ]
    }
   ],
   "source": [
    "d={10:45,5:'abc',70:2000}\n",
    "del d[5]\n",
    "print(d)"
   ]
  },
  {
   "cell_type": "code",
   "execution_count": 18,
   "metadata": {},
   "outputs": [
    {
     "name": "stdout",
     "output_type": "stream",
     "text": [
      "{10: 45, 70: 2000} abc\n",
      "{10: 45, 70: 2000} No value\n",
      "{10: 45, 70: 2000} 0\n"
     ]
    }
   ],
   "source": [
    "d={10:45,5:'abc',70:2000}\n",
    "r=d.pop(5,0)\n",
    "print(d,r)\n",
    "p=d.pop(6,'No value')\n",
    "print(d,p)\n",
    "p=d.pop(6,0)\n",
    "print(d,p)"
   ]
  },
  {
   "cell_type": "code",
   "execution_count": 20,
   "metadata": {},
   "outputs": [
    {
     "name": "stdout",
     "output_type": "stream",
     "text": [
      "{10: 45, 5: 'abc'} (70, 2000)\n"
     ]
    }
   ],
   "source": [
    "d={10:45,5:'abc',70:2000}\n",
    "r=d.popitem()\n",
    "print(d,r)"
   ]
  },
  {
   "cell_type": "code",
   "execution_count": 23,
   "metadata": {},
   "outputs": [
    {
     "name": "stdout",
     "output_type": "stream",
     "text": [
      "dict_keys([10, 5, 70])\n",
      "dict_values([45, 'abc', 2000])\n",
      "dict_items([(10, 45), (5, 'abc'), (70, 2000)])\n",
      "{10: 45, 5: 'abc', 70: 2000}\n"
     ]
    }
   ],
   "source": [
    "d={10:45,5:'abc',70:2000}\n",
    "print(d.keys())\n",
    "print(d.values())\n",
    "print(d.items())\n",
    "print(d)"
   ]
  },
  {
   "cell_type": "code",
   "execution_count": 24,
   "metadata": {},
   "outputs": [
    {
     "name": "stdout",
     "output_type": "stream",
     "text": [
      "(10, 5, 70)\n",
      "dict_values([45, 'abc', 2000])\n",
      "dict_items([(10, 45), (5, 'abc'), (70, 2000)])\n",
      "{10: 45, 5: 'abc', 70: 2000}\n"
     ]
    }
   ],
   "source": [
    "d={10:45,5:'abc',70:2000}\n",
    "print(tuple(d.keys()))\n",
    "print(d.values())\n",
    "print(d.items())\n",
    "print(d)"
   ]
  },
  {
   "cell_type": "code",
   "execution_count": 25,
   "metadata": {},
   "outputs": [
    {
     "name": "stdout",
     "output_type": "stream",
     "text": [
      "[45, 'abc', 2000]\n"
     ]
    }
   ],
   "source": [
    "d={10:45,5:'abc',70:2000}\n",
    "l=[]\n",
    "for k in d:\n",
    "    l.append(d[k])\n",
    "print(l)"
   ]
  },
  {
   "cell_type": "code",
   "execution_count": 26,
   "metadata": {},
   "outputs": [
    {
     "name": "stdout",
     "output_type": "stream",
     "text": [
      "{10: 50, 5: 'abc', 70: 2000} {10: 50, 5: 'abc', 70: 2000}\n"
     ]
    }
   ],
   "source": [
    "d={10:45,5:'abc',70:2000}\n",
    "d1=d\n",
    "d[10]=50\n",
    "print(d,d1)"
   ]
  },
  {
   "cell_type": "code",
   "execution_count": 29,
   "metadata": {},
   "outputs": [
    {
     "name": "stdout",
     "output_type": "stream",
     "text": [
      "{10: 50, 5: 'abc', 70: 2000, 7: [1, 2, 3, 4, 5]} \t {10: 45, 5: 'abc', 70: 2000, 7: [1, 2, 3, 4, 5]}\n",
      "{10: 50, 5: 'abc', 70: 2000, 7: [1, 2, 3, 4, 5, 300]} \t {10: 45, 5: 'abc', 70: 2000, 7: [1, 2, 3, 4, 5, 300]}\n"
     ]
    }
   ],
   "source": [
    "d={10:45,5:'abc',70:2000,7:[1,2,3,4,5]}\n",
    "d1=d.copy()\n",
    "d1[10]=50\n",
    "print(d1,'\\t',d)\n",
    "d1[7].append(300)\n",
    "print(d1,'\\t',d)\n"
   ]
  },
  {
   "cell_type": "code",
   "execution_count": 37,
   "metadata": {},
   "outputs": [
    {
     "name": "stdout",
     "output_type": "stream",
     "text": [
      "{10: 50, 5: 'abc', 70: 2000, 7: [1, 2, 3, 4, 5]} \t {10: 45, 5: 'abc', 70: 2000, 7: [1, 2, 3, 4, 5]}\n",
      "{10: 50, 5: 'abc', 70: 2000, 7: [1, 2, 3, 4, 5, 300]} \t {10: 45, 5: 'abc', 70: 2000, 7: [1, 2, 3, 4, 5]}\n"
     ]
    }
   ],
   "source": [
    "import copy\n",
    "d={10:45,5:'abc',70:2000,7:[1,2,3,4,5]}\n",
    "d1=copy.deepcopy(d)\n",
    "d1[10]=50\n",
    "print(d1,'\\t',d)\n",
    "d1[7].append(300)\n",
    "print(d1,'\\t',d)"
   ]
  },
  {
   "cell_type": "code",
   "execution_count": 34,
   "metadata": {},
   "outputs": [
    {
     "name": "stdout",
     "output_type": "stream",
     "text": [
      "{10: 45, 5: 'abc', 70: 2000}\n",
      "{10: 45, 5: 'abc', 70: 2000}  &  {11: 45, 51: 'abc', 70: 'GEENU'}  &  {10: 45, 5: 'abc', 70: 'GEENU', 11: 45, 51: 'abc'}\n"
     ]
    }
   ],
   "source": [
    "d={10:45,5:'abc',70:2000}\n",
    "d1={11:45,51:'abc',70:'GEENU'}\n",
    "d3=d.copy()\n",
    "print(d3)\n",
    "d3.update(d1)\n",
    "print(d,d1,d3, sep=\"  &  \")"
   ]
  },
  {
   "cell_type": "code",
   "execution_count": 35,
   "metadata": {},
   "outputs": [
    {
     "name": "stdout",
     "output_type": "stream",
     "text": [
      "range(0, 6)\n"
     ]
    }
   ],
   "source": [
    "print(range(6))"
   ]
  },
  {
   "cell_type": "code",
   "execution_count": 36,
   "metadata": {},
   "outputs": [
    {
     "name": "stdout",
     "output_type": "stream",
     "text": [
      "0 1 2 3 4 5\n"
     ]
    }
   ],
   "source": [
    "print(*range(6))"
   ]
  },
  {
   "cell_type": "code",
   "execution_count": 38,
   "metadata": {},
   "outputs": [
    {
     "name": "stdout",
     "output_type": "stream",
     "text": [
      "45\n",
      "None\n",
      "-1\n"
     ]
    }
   ],
   "source": [
    "d={10:45,5:'abc',70:2000}\n",
    "print(d.get(10))\n",
    "print(d.get(100))\n",
    "print(d.get(100,-1))"
   ]
  },
  {
   "cell_type": "code",
   "execution_count": 39,
   "metadata": {},
   "outputs": [
    {
     "name": "stdout",
     "output_type": "stream",
     "text": [
      "enter a string: malayalam\n",
      "{'m': 2, 'a': 4, 'l': 2, 'y': 1}\n"
     ]
    }
   ],
   "source": [
    "s=input(\"enter a string: \")\n",
    "d={}\n",
    "for c in s:\n",
    "    d[c]=d.get(c,0)+1\n",
    "print(d)"
   ]
  },
  {
   "cell_type": "code",
   "execution_count": 47,
   "metadata": {},
   "outputs": [
    {
     "name": "stdout",
     "output_type": "stream",
     "text": [
      "{10: 45, 5: 'abc', 70: 2000}\n",
      "{10: 45, 5: 'abc', 70: [2000, 3000], 11: 50, 51: 'ABCD'}\n",
      "{10: 45, 5: 'abc', 70: [2000, 3000, 4000], 11: [50, 60], 51: 'ABCD', 52: 'ABCD'}\n"
     ]
    }
   ],
   "source": [
    "d1={10:45,5:'abc',70:2000}\n",
    "d2={11:50,51:'ABCD',70:3000}\n",
    "d3=d1.copy()\n",
    "print(d3)\n",
    "for c in d2:\n",
    "    if c in d3:\n",
    "        d3[c]=[d3[c],d2[c]]\n",
    "    else:\n",
    "        d3[c]=d2[c]\n",
    "print(d3)\n",
    "d4={11:60,52:'ABCD',70:4000}\n",
    "for c in d4:\n",
    "    if c in d3:\n",
    "        if isinstance(d3[c],list):\n",
    "            d3[c].append(d4[c])\n",
    "        else:\n",
    "            d3[c]=[d3[c],d4[c]]\n",
    "    else:\n",
    "        d3[c]=d4[c]\n",
    "print(d3)\n",
    "\n"
   ]
  },
  {
   "cell_type": "code",
   "execution_count": null,
   "metadata": {},
   "outputs": [],
   "source": []
  }
 ],
 "metadata": {
  "kernelspec": {
   "display_name": "Python 3",
   "language": "python",
   "name": "python3"
  },
  "language_info": {
   "codemirror_mode": {
    "name": "ipython",
    "version": 3
   },
   "file_extension": ".py",
   "mimetype": "text/x-python",
   "name": "python",
   "nbconvert_exporter": "python",
   "pygments_lexer": "ipython3",
   "version": "3.7.3"
  }
 },
 "nbformat": 4,
 "nbformat_minor": 2
}
