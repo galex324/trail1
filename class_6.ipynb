{
 "cells": [
  {
   "cell_type": "code",
   "execution_count": 3,
   "metadata": {},
   "outputs": [
    {
     "name": "stdout",
     "output_type": "stream",
     "text": [
      "[[25, 55, 55, 5]]\n"
     ]
    }
   ],
   "source": [
    "a=[]\n",
    "import random\n",
    "a.append([random.randrange(1,100),random.randrange(1,100),random.randrange(1,100),random.randrange(1,100)])\n",
    "print(a)"
   ]
  },
  {
   "cell_type": "code",
   "execution_count": 1,
   "metadata": {},
   "outputs": [
    {
     "name": "stdout",
     "output_type": "stream",
     "text": [
      "enter a number of times: 5\n",
      "enter a number: 2\n",
      "2\n",
      "3\n",
      "4\n",
      "5\n",
      "end\n"
     ]
    }
   ],
   "source": [
    "n=int(input(\"enter a number of times: \"))\n",
    "x=int(input(\"enter a number: \"))\n",
    "while x<=n:\n",
    "  print(x)\n",
    "  x=x+1\n",
    "print(\"end\")"
   ]
  },
  {
   "cell_type": "code",
   "execution_count": 3,
   "metadata": {},
   "outputs": [
    {
     "name": "stdout",
     "output_type": "stream",
     "text": [
      "enter string: geenu\n",
      "g\n",
      "e\n",
      "e\n",
      "n\n",
      "u\n",
      "end\n"
     ]
    }
   ],
   "source": [
    "n=input(\"enter string: \")\n",
    "x=0\n",
    "while x<len(n):\n",
    "  print(n[x])\n",
    "  x=x+1\n",
    "print(\"end\")"
   ]
  },
  {
   "cell_type": "code",
   "execution_count": 4,
   "metadata": {},
   "outputs": [
    {
     "name": "stdout",
     "output_type": "stream",
     "text": [
      "enter string: geenu\n",
      "103\n",
      "101\n",
      "101\n",
      "110\n",
      "117\n",
      "end\n"
     ]
    }
   ],
   "source": [
    "n=input(\"enter string: \")\n",
    "x=0\n",
    "while x<len(n):\n",
    "  print(ord(n[x]))\n",
    "  x=x+1\n",
    "print(\"end\")"
   ]
  },
  {
   "cell_type": "code",
   "execution_count": 6,
   "metadata": {},
   "outputs": [
    {
     "name": "stdout",
     "output_type": "stream",
     "text": [
      "enter a number: 10\n",
      "sum of numbers: 55\n"
     ]
    }
   ],
   "source": [
    "n=int(input(\"enter a number: \"))\n",
    "x=1\n",
    "s=0\n",
    "while x<=n:\n",
    "    s=s+x\n",
    "    x=x+1\n",
    "print(\"sum of numbers:\",s)"
   ]
  },
  {
   "cell_type": "code",
   "execution_count": 8,
   "metadata": {},
   "outputs": [
    {
     "name": "stdout",
     "output_type": "stream",
     "text": [
      "enter a number: 5\n",
      "product of numbers: 120\n"
     ]
    }
   ],
   "source": [
    "n=int(input(\"enter a number: \"))\n",
    "x=1\n",
    "s=1\n",
    "while x<=n:\n",
    "    s=s*x\n",
    "    x=x+1\n",
    "print(\"product of numbers:\",s)"
   ]
  },
  {
   "cell_type": "code",
   "execution_count": 12,
   "metadata": {},
   "outputs": [
    {
     "name": "stdout",
     "output_type": "stream",
     "text": [
      "enter string: geenu\n",
      "sum of ordinal values: 532\n"
     ]
    }
   ],
   "source": [
    "n=input(\"enter string: \")\n",
    "x=0\n",
    "s=0\n",
    "while x<len(n):\n",
    "  p=ord(n[x])\n",
    "  s=s+p\n",
    "  x=x+1\n",
    "print(\"sum of ordinal values:\",s)"
   ]
  },
  {
   "cell_type": "code",
   "execution_count": 17,
   "metadata": {},
   "outputs": [
    {
     "name": "stdout",
     "output_type": "stream",
     "text": [
      "enter string: geenu\n",
      "list: [103, 101, 101, 110, 117]\n"
     ]
    }
   ],
   "source": [
    "n=input(\"enter string: \")\n",
    "x=0\n",
    "s=[]\n",
    "while x<len(n):\n",
    "  s.append(ord(n[x]))\n",
    "  \n",
    "  x=x+1\n",
    "print(\"list:\",s)"
   ]
  },
  {
   "cell_type": "code",
   "execution_count": 33,
   "metadata": {},
   "outputs": [
    {
     "name": "stdout",
     "output_type": "stream",
     "text": [
      "[2, 3, [13, 14]]\n"
     ]
    }
   ],
   "source": [
    "a=[2,3]\n",
    "a.append([13,14])\n",
    "print(a)"
   ]
  },
  {
   "cell_type": "code",
   "execution_count": 32,
   "metadata": {},
   "outputs": [
    {
     "name": "stdout",
     "output_type": "stream",
     "text": [
      "[2, 3, 7, 8, 9]\n"
     ]
    }
   ],
   "source": [
    "a=[2,3]\n",
    "b=[7,8,9]\n",
    "a.extend(b)\n",
    "print(a)"
   ]
  },
  {
   "cell_type": "code",
   "execution_count": null,
   "metadata": {},
   "outputs": [],
   "source": []
  }
 ],
 "metadata": {
  "kernelspec": {
   "display_name": "Python 3",
   "language": "python",
   "name": "python3"
  },
  "language_info": {
   "codemirror_mode": {
    "name": "ipython",
    "version": 3
   },
   "file_extension": ".py",
   "mimetype": "text/x-python",
   "name": "python",
   "nbconvert_exporter": "python",
   "pygments_lexer": "ipython3",
   "version": "3.7.3"
  }
 },
 "nbformat": 4,
 "nbformat_minor": 2
}
