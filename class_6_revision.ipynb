{
 "cells": [
  {
   "cell_type": "markdown",
   "metadata": {},
   "source": [
    "### list"
   ]
  },
  {
   "cell_type": "code",
   "execution_count": 1,
   "metadata": {},
   "outputs": [
    {
     "name": "stdout",
     "output_type": "stream",
     "text": [
      "<class 'list'> 0\n"
     ]
    }
   ],
   "source": [
    "a=[]\n",
    "print(type(a),len(a))"
   ]
  },
  {
   "cell_type": "code",
   "execution_count": 2,
   "metadata": {},
   "outputs": [
    {
     "name": "stdout",
     "output_type": "stream",
     "text": [
      "[1, 2, 3] <class 'list'> 3\n"
     ]
    }
   ],
   "source": [
    "a=[1,2,3]\n",
    "print(a,type(a),len(a))"
   ]
  },
  {
   "cell_type": "code",
   "execution_count": 4,
   "metadata": {},
   "outputs": [
    {
     "name": "stdout",
     "output_type": "stream",
     "text": [
      "['A', 'B', 'C'] <class 'list'> 3\n"
     ]
    }
   ],
   "source": [
    "s=['A','B','C']\n",
    "print(s,type(s),len(s))"
   ]
  },
  {
   "cell_type": "code",
   "execution_count": 5,
   "metadata": {},
   "outputs": [
    {
     "name": "stdout",
     "output_type": "stream",
     "text": [
      "[] <class 'list'> 0\n"
     ]
    }
   ],
   "source": [
    "a=list()\n",
    "print(a,type(a),len(a))"
   ]
  },
  {
   "cell_type": "code",
   "execution_count": 8,
   "metadata": {},
   "outputs": [
    {
     "name": "stdout",
     "output_type": "stream",
     "text": [
      "['1', '2', '3']\n"
     ]
    }
   ],
   "source": [
    "a=list('123')\n",
    "print(a)"
   ]
  },
  {
   "cell_type": "code",
   "execution_count": 9,
   "metadata": {},
   "outputs": [
    {
     "name": "stdout",
     "output_type": "stream",
     "text": [
      "['1', ',', '2', ',', '3']\n"
     ]
    }
   ],
   "source": [
    "a=list('1,2,3')\n",
    "print(a)"
   ]
  },
  {
   "cell_type": "code",
   "execution_count": 40,
   "metadata": {},
   "outputs": [
    {
     "ename": "TypeError",
     "evalue": "'int' object is not iterable",
     "output_type": "error",
     "traceback": [
      "\u001b[1;31m---------------------------------------------------------------------------\u001b[0m",
      "\u001b[1;31mTypeError\u001b[0m                                 Traceback (most recent call last)",
      "\u001b[1;32m<ipython-input-40-558dab127653>\u001b[0m in \u001b[0;36m<module>\u001b[1;34m\u001b[0m\n\u001b[0;32m      1\u001b[0m \u001b[0ma\u001b[0m\u001b[1;33m=\u001b[0m\u001b[0mlist\u001b[0m\u001b[1;33m(\u001b[0m\u001b[1;33m[\u001b[0m\u001b[1;36m1\u001b[0m\u001b[1;33m,\u001b[0m\u001b[1;36m2\u001b[0m\u001b[1;33m,\u001b[0m\u001b[1;36m3\u001b[0m\u001b[1;33m]\u001b[0m\u001b[1;33m)\u001b[0m\u001b[1;33m\u001b[0m\u001b[1;33m\u001b[0m\u001b[0m\n\u001b[1;32m----> 2\u001b[1;33m \u001b[0mf\u001b[0m\u001b[1;33m=\u001b[0m\u001b[0mlist\u001b[0m\u001b[1;33m(\u001b[0m\u001b[1;36m10\u001b[0m\u001b[1;33m)\u001b[0m\u001b[1;33m\u001b[0m\u001b[1;33m\u001b[0m\u001b[0m\n\u001b[0m\u001b[0;32m      3\u001b[0m \u001b[0mb\u001b[0m\u001b[1;33m=\u001b[0m\u001b[0mlist\u001b[0m\u001b[1;33m(\u001b[0m\u001b[1;33m[\u001b[0m\u001b[1;36m123\u001b[0m\u001b[1;33m]\u001b[0m\u001b[1;33m)\u001b[0m\u001b[1;33m\u001b[0m\u001b[1;33m\u001b[0m\u001b[0m\n\u001b[0;32m      4\u001b[0m \u001b[0mc\u001b[0m\u001b[1;33m=\u001b[0m\u001b[0mlist\u001b[0m\u001b[1;33m(\u001b[0m\u001b[1;33m[\u001b[0m\u001b[1;34m'abc'\u001b[0m\u001b[1;33m]\u001b[0m\u001b[1;33m)\u001b[0m\u001b[1;33m\u001b[0m\u001b[1;33m\u001b[0m\u001b[0m\n\u001b[0;32m      5\u001b[0m \u001b[0md\u001b[0m\u001b[1;33m=\u001b[0m\u001b[0mlist\u001b[0m\u001b[1;33m(\u001b[0m\u001b[1;34m'abc'\u001b[0m\u001b[1;33m)\u001b[0m\u001b[1;33m\u001b[0m\u001b[1;33m\u001b[0m\u001b[0m\n",
      "\u001b[1;31mTypeError\u001b[0m: 'int' object is not iterable"
     ]
    }
   ],
   "source": [
    "a=list([1,2,3])\n",
    "b=list([123])\n",
    "c=list(['abc'])\n",
    "d=list('abc')\n",
    "e=list(['a','b','c'])\n",
    "print(a,b,c,d,e)"
   ]
  },
  {
   "cell_type": "code",
   "execution_count": 16,
   "metadata": {},
   "outputs": [
    {
     "name": "stdout",
     "output_type": "stream",
     "text": [
      "[10, 200, 30, 40]\n",
      "[10, 2, 3, 4, 5, 6]\n",
      "[10, 7, 8, 9, 10, 4, 5, 6]\n",
      "<class 'int'> <class 'list'>\n"
     ]
    }
   ],
   "source": [
    "ls=[10,20,30,40]\n",
    "ls[1]=200\n",
    "print(ls)\n",
    "ls[1:]=[2,3,4,5,6]\n",
    "print(ls)\n",
    "ls[1:3]=[7,8,9,10]\n",
    "print(ls)\n",
    "print(type(ls[1]),type(ls[1:]))"
   ]
  },
  {
   "cell_type": "markdown",
   "metadata": {},
   "source": [
    "## extend and append"
   ]
  },
  {
   "cell_type": "code",
   "execution_count": 22,
   "metadata": {},
   "outputs": [
    {
     "name": "stdout",
     "output_type": "stream",
     "text": [
      "[10, 20, 30, 10, 20, 20]\n",
      "[10, 20, 30, 10, 20, 20, 10]\n"
     ]
    }
   ],
   "source": [
    "l=[10,20,30]\n",
    "l.extend([10,20,20])\n",
    "print(l)\n",
    "l.extend([10])\n",
    "print(l)"
   ]
  },
  {
   "cell_type": "code",
   "execution_count": 26,
   "metadata": {},
   "outputs": [
    {
     "name": "stdout",
     "output_type": "stream",
     "text": [
      "[10, 20, 30, 10]\n",
      "[10, 20, 30, 10, [10]]\n",
      "[10, 20, 30, 10, [10], [10, 20, 20]]\n"
     ]
    }
   ],
   "source": [
    "l=[10,20,30]\n",
    "l.append(10)\n",
    "print(l)\n",
    "l.append([10])\n",
    "print(l)\n",
    "l.append([10,20,20])\n",
    "print(l)\n"
   ]
  },
  {
   "cell_type": "code",
   "execution_count": 30,
   "metadata": {},
   "outputs": [
    {
     "name": "stdout",
     "output_type": "stream",
     "text": [
      "[96, 57, 65, 13]\n"
     ]
    }
   ],
   "source": [
    "import random\n",
    "l=[]\n",
    "l.extend([random.randint(1,100)])\n",
    "l.extend([random.randint(1,100)])\n",
    "l.extend([random.randint(1,100)])\n",
    "l.extend([random.randint(1,100)])\n",
    "print(l)"
   ]
  },
  {
   "cell_type": "code",
   "execution_count": 32,
   "metadata": {},
   "outputs": [
    {
     "name": "stdout",
     "output_type": "stream",
     "text": [
      "[10, 20, 30]\n"
     ]
    }
   ],
   "source": [
    "a=list([10,20,30])\n",
    "print(a)"
   ]
  },
  {
   "cell_type": "code",
   "execution_count": 39,
   "metadata": {},
   "outputs": [
    {
     "name": "stdout",
     "output_type": "stream",
     "text": [
      "[10, 'abc', True] ['a', 'b', 'c']\n",
      "[10, 'abc', True, 'd', 'e', 'f', 10]\n"
     ]
    }
   ],
   "source": [
    "a=list([10,'abc',True])\n",
    "b=list('abc')\n",
    "print(a,b)\n",
    "a.extend('def')\n",
    "a.extend([10])\n",
    "print(a)\n"
   ]
  },
  {
   "cell_type": "code",
   "execution_count": 45,
   "metadata": {},
   "outputs": [
    {
     "name": "stdout",
     "output_type": "stream",
     "text": [
      "[10, 20, 'abc', True, [1, 2, 3, 4]]\n",
      "<class 'int'>\n"
     ]
    }
   ],
   "source": [
    "c=[10,20,'abc',True,[1,2,3,4]]\n",
    "print(c)\n",
    "print(type(c[4][2]))\n"
   ]
  },
  {
   "cell_type": "code",
   "execution_count": 47,
   "metadata": {},
   "outputs": [
    {
     "name": "stdout",
     "output_type": "stream",
     "text": [
      "[10, 20] 30\n"
     ]
    }
   ],
   "source": [
    "a=[10,20,30]\n",
    "r=a.pop(2)\n",
    "print(a,r)"
   ]
  },
  {
   "cell_type": "code",
   "execution_count": 49,
   "metadata": {},
   "outputs": [
    {
     "name": "stdout",
     "output_type": "stream",
     "text": [
      "[10, 20, 40] None\n"
     ]
    }
   ],
   "source": [
    "a=[10,20,30,40,30]\n",
    "r=a.remove(30)\n",
    "r=a.remove(30)\n",
    "print(a,r)\n"
   ]
  },
  {
   "cell_type": "code",
   "execution_count": 51,
   "metadata": {},
   "outputs": [
    {
     "name": "stdout",
     "output_type": "stream",
     "text": [
      "[1, 2, 3, 5]\n"
     ]
    }
   ],
   "source": [
    "a=[1,2,3,4,5]\n",
    "del a[3]\n",
    "print(a)"
   ]
  },
  {
   "cell_type": "code",
   "execution_count": 54,
   "metadata": {},
   "outputs": [
    {
     "name": "stdout",
     "output_type": "stream",
     "text": [
      "[1, 2, 100, 4, 5] [1, 2, 100, 4, 5]\n",
      "1801439148616 1801439148616\n"
     ]
    }
   ],
   "source": [
    "a1=[1,2,3,4,5]\n",
    "a2=a1\n",
    "a2[2]=100\n",
    "print(a1,a2)\n",
    "print(id(a1),id(a2))"
   ]
  },
  {
   "cell_type": "code",
   "execution_count": 55,
   "metadata": {},
   "outputs": [
    {
     "name": "stdout",
     "output_type": "stream",
     "text": [
      "[1, 2, 3, 4, 5] [1, 2, 100, 4, 5]\n",
      "1801439576776 1801438676872\n"
     ]
    }
   ],
   "source": [
    "a1=[1,2,3,4,5]\n",
    "a2=a1.copy()\n",
    "a2[2]=100\n",
    "print(a1,a2)\n",
    "print(id(a1),id(a2))"
   ]
  },
  {
   "cell_type": "code",
   "execution_count": 56,
   "metadata": {},
   "outputs": [
    {
     "name": "stdout",
     "output_type": "stream",
     "text": [
      "[2, 5, 7, 100, 1, 3] None\n"
     ]
    }
   ],
   "source": [
    "a=[2,5,7,1,3]\n",
    "r=a.insert(3,100)\n",
    "print(a,r)"
   ]
  },
  {
   "cell_type": "code",
   "execution_count": 59,
   "metadata": {},
   "outputs": [
    {
     "name": "stdout",
     "output_type": "stream",
     "text": [
      "[6, 8, 3, 2, 5, 1] None\n",
      "None\n"
     ]
    }
   ],
   "source": [
    "a=[1,5,2,3,8,6]\n",
    "r=a.reverse()\n",
    "print(a,r)\n",
    "print(a.reverse())"
   ]
  },
  {
   "cell_type": "code",
   "execution_count": 64,
   "metadata": {},
   "outputs": [
    {
     "name": "stdout",
     "output_type": "stream",
     "text": [
      "[2, 4, 6, 3, 1] [1, 3, 6, 4, 2]\n"
     ]
    }
   ],
   "source": [
    "a=[2,4,6,3,1]\n",
    "b=a[::-1]\n",
    "print(a,b)"
   ]
  },
  {
   "cell_type": "code",
   "execution_count": 61,
   "metadata": {},
   "outputs": [
    {
     "name": "stdout",
     "output_type": "stream",
     "text": [
      "[8, 6, 5, 3, 2, 1] None\n",
      "None\n"
     ]
    }
   ],
   "source": [
    "a=[1,5,2,3,8,6]\n",
    "r=a.sort()\n",
    "r=a.sort(reverse=True)\n",
    "print(a,r)\n",
    "print(a.sort())"
   ]
  },
  {
   "cell_type": "code",
   "execution_count": 63,
   "metadata": {},
   "outputs": [
    {
     "name": "stdout",
     "output_type": "stream",
     "text": [
      "[2, 3, 6, 70, 88] [6, 55, 48, 9] [2, 3, 6, 70, 88, 6, 55, 48, 9]\n",
      "1801438114696 1801437749768 1801439577160\n"
     ]
    }
   ],
   "source": [
    "a1=[2,3,6,70,88]\n",
    "a2=[6,55,48,9]\n",
    "a3=a1+a2\n",
    "print(a1,a2,a3)\n",
    "print(id(a1),id(a2),id(a3))"
   ]
  },
  {
   "cell_type": "markdown",
   "metadata": {},
   "source": [
    "## tuple- immutable hetrogeneous sequence"
   ]
  },
  {
   "cell_type": "code",
   "execution_count": 65,
   "metadata": {},
   "outputs": [
    {
     "name": "stdout",
     "output_type": "stream",
     "text": [
      "(10, 20) <class 'tuple'>\n"
     ]
    }
   ],
   "source": [
    "x=10,20\n",
    "print(x,type(x))\n"
   ]
  },
  {
   "cell_type": "code",
   "execution_count": 68,
   "metadata": {},
   "outputs": [
    {
     "name": "stdout",
     "output_type": "stream",
     "text": [
      "10 <class 'int'>\n"
     ]
    }
   ],
   "source": [
    "x=(10)\n",
    "print(x,type(x))"
   ]
  },
  {
   "cell_type": "code",
   "execution_count": 67,
   "metadata": {},
   "outputs": [
    {
     "name": "stdout",
     "output_type": "stream",
     "text": [
      "(1,) <class 'tuple'>\n"
     ]
    }
   ],
   "source": [
    "x=(1,)\n",
    "print(x,type(x))"
   ]
  },
  {
   "cell_type": "code",
   "execution_count": 69,
   "metadata": {},
   "outputs": [
    {
     "name": "stdout",
     "output_type": "stream",
     "text": [
      "('a', 'b', 'c') <class 'tuple'>\n"
     ]
    }
   ],
   "source": [
    "t=tuple('abc')\n",
    "print(t,type(t))"
   ]
  },
  {
   "cell_type": "code",
   "execution_count": 71,
   "metadata": {},
   "outputs": [
    {
     "name": "stdout",
     "output_type": "stream",
     "text": [
      "(1, 2) <class 'tuple'>\n"
     ]
    }
   ],
   "source": [
    "t=tuple((1,2))\n",
    "print(t,type(t))"
   ]
  },
  {
   "cell_type": "code",
   "execution_count": 72,
   "metadata": {},
   "outputs": [
    {
     "name": "stdout",
     "output_type": "stream",
     "text": [
      "(1, 2) <class 'tuple'>\n"
     ]
    }
   ],
   "source": [
    "t=tuple([1,2])\n",
    "print(t,type(t))"
   ]
  },
  {
   "cell_type": "code",
   "execution_count": 74,
   "metadata": {},
   "outputs": [
    {
     "name": "stdout",
     "output_type": "stream",
     "text": [
      "[1, 3, 4] <class 'list'>\n"
     ]
    }
   ],
   "source": [
    "ls=list((1,3,4))\n",
    "print(ls,type(ls))"
   ]
  },
  {
   "cell_type": "code",
   "execution_count": 75,
   "metadata": {},
   "outputs": [
    {
     "name": "stdout",
     "output_type": "stream",
     "text": [
      "(4, 5, 7, 9) (2, 4, 5, 7, 9, 1)\n"
     ]
    }
   ],
   "source": [
    "t=(2,4,5,7,9,1)\n",
    "a=t[1:5]\n",
    "print(a,t)"
   ]
  },
  {
   "cell_type": "markdown",
   "metadata": {},
   "source": [
    "## string formatting"
   ]
  },
  {
   "cell_type": "code",
   "execution_count": 76,
   "metadata": {},
   "outputs": [
    {
     "name": "stdout",
     "output_type": "stream",
     "text": [
      "10-10.500000\n"
     ]
    }
   ],
   "source": [
    "x=10\n",
    "y=10.5\n",
    "s=\"%d-%f\" % (x,y)\n",
    "print(s)"
   ]
  },
  {
   "cell_type": "markdown",
   "metadata": {},
   "source": [
    "## while lopp"
   ]
  },
  {
   "cell_type": "code",
   "execution_count": 83,
   "metadata": {},
   "outputs": [
    {
     "name": "stdout",
     "output_type": "stream",
     "text": [
      "enter a number: 9\n",
      "1\n",
      "2\n",
      "3\n",
      "4\n",
      "5\n",
      "6\n",
      "7\n",
      "8\n",
      "9\n",
      "end!!\n"
     ]
    }
   ],
   "source": [
    "n= int(input(\"enter a number: \"))\n",
    "x=1\n",
    "while x<=n:\n",
    "    print(x)\n",
    "    x=x+1\n",
    "print(\"end!!\")"
   ]
  },
  {
   "cell_type": "code",
   "execution_count": 82,
   "metadata": {},
   "outputs": [
    {
     "name": "stdout",
     "output_type": "stream",
     "text": [
      "enter a number: 7\n",
      "[47, 79, 7, 2, 89, 47, 73]\n"
     ]
    }
   ],
   "source": [
    "n =int(input(\"enter a number: \"))\n",
    "x=1\n",
    "ls=[]\n",
    "import random\n",
    "while x<=n:\n",
    "    ls.append(random.randint(1,100))\n",
    "    x=x+1\n",
    "print(ls)"
   ]
  },
  {
   "cell_type": "code",
   "execution_count": 86,
   "metadata": {},
   "outputs": [
    {
     "name": "stdout",
     "output_type": "stream",
     "text": [
      "enter a string: Geenu\n",
      "G - 71\n",
      "e - 101\n",
      "e - 101\n",
      "n - 110\n",
      "u - 117\n"
     ]
    }
   ],
   "source": [
    "s=input(\"enter a string: \")\n",
    "x=0\n",
    "while x<len(s):\n",
    "    print(s[x],\"-\",ord(s[x]))\n",
    "    x=x+1\n"
   ]
  },
  {
   "cell_type": "code",
   "execution_count": 88,
   "metadata": {},
   "outputs": [
    {
     "name": "stdout",
     "output_type": "stream",
     "text": [
      "enter a number: 5\n",
      "sum of numbers till 5 = 15\n"
     ]
    }
   ],
   "source": [
    "n=int(input(\"enter a number: \"))\n",
    "s=0\n",
    "x=1\n",
    "while x<=n:\n",
    "    s=s+x\n",
    "    x=x+1\n",
    "print(\"sum of numbers till\",n,\"=\",s)"
   ]
  },
  {
   "cell_type": "code",
   "execution_count": 89,
   "metadata": {},
   "outputs": [
    {
     "name": "stdout",
     "output_type": "stream",
     "text": [
      "enter a number: 5\n",
      "product of numbers till 5 = 120\n"
     ]
    }
   ],
   "source": [
    "n=int(input(\"enter a number: \"))\n",
    "s=1\n",
    "x=1\n",
    "while x<=n:\n",
    "    s=s*x\n",
    "    x=x+1\n",
    "print(\"product of numbers till\",n,\"=\",s)"
   ]
  },
  {
   "cell_type": "code",
   "execution_count": 90,
   "metadata": {},
   "outputs": [
    {
     "name": "stdout",
     "output_type": "stream",
     "text": [
      "enter a string: Geenu\n",
      "sum of ordinal values= 500\n"
     ]
    }
   ],
   "source": [
    "n=input(\"enter a string: \")\n",
    "s=0\n",
    "x=0\n",
    "while x<len(n):\n",
    "    s=s+ord(n[x])\n",
    "    x=x+1\n",
    "print(\"sum of ordinal values=\",s)"
   ]
  },
  {
   "cell_type": "code",
   "execution_count": 92,
   "metadata": {},
   "outputs": [
    {
     "name": "stdout",
     "output_type": "stream",
     "text": [
      "enter a string: Geenu\n",
      "[['G', 71], ['e', 101], ['e', 101], ['n', 110], ['u', 117]]\n"
     ]
    }
   ],
   "source": [
    "n=input(\"enter a string: \")\n",
    "ls=[]\n",
    "x=0\n",
    "while x<len(n):\n",
    "    ls.append([n[x],ord(n[x])])\n",
    "    x=x+1\n",
    "print(ls)"
   ]
  },
  {
   "cell_type": "code",
   "execution_count": null,
   "metadata": {},
   "outputs": [],
   "source": []
  },
  {
   "cell_type": "code",
   "execution_count": null,
   "metadata": {},
   "outputs": [],
   "source": []
  },
  {
   "cell_type": "code",
   "execution_count": null,
   "metadata": {},
   "outputs": [],
   "source": []
  }
 ],
 "metadata": {
  "kernelspec": {
   "display_name": "Python 3",
   "language": "python",
   "name": "python3"
  },
  "language_info": {
   "codemirror_mode": {
    "name": "ipython",
    "version": 3
   },
   "file_extension": ".py",
   "mimetype": "text/x-python",
   "name": "python",
   "nbconvert_exporter": "python",
   "pygments_lexer": "ipython3",
   "version": "3.7.3"
  }
 },
 "nbformat": 4,
 "nbformat_minor": 2
}
